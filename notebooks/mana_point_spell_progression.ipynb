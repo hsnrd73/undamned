{
 "cells": [
  {
   "cell_type": "markdown",
   "id": "67e2010d-86de-4340-831a-544ad6b37088",
   "metadata": {
    "jp-MarkdownHeadingCollapsed": true
   },
   "source": [
    "# Description\n",
    "This notebook does a statistical analysis of a mana point (MP) spell casting system where a magic user gains 1dx + bonus mana points per level.  The number of MP required to cast a spell is equal to the spell level or the level it is cast at.  The baseline for comparison, which appears as BF Core Rules in the plot legend, is based on the table created by Dimirag on the [Basic Fantasy forums](https://www.basicfantasy.org/forums/viewtopic.php?t=5139)."
   ]
  },
  {
   "cell_type": "markdown",
   "id": "6bfeb037-eaa9-4c92-8dfe-28585288ff69",
   "metadata": {
    "jp-MarkdownHeadingCollapsed": true
   },
   "source": [
    "# Modules"
   ]
  },
  {
   "cell_type": "code",
   "execution_count": null,
   "id": "386bd216-a09b-4c0d-9bf0-16524514ff9e",
   "metadata": {},
   "outputs": [],
   "source": [
    "import matplotlib.pyplot as plt\n",
    "import numpy as np\n",
    "np.set_printoptions(legacy='1.25')\n",
    "import pandas as pd"
   ]
  },
  {
   "cell_type": "markdown",
   "id": "5f0ca56b-c8d1-4524-b923-c4f286c3a2af",
   "metadata": {
    "jp-MarkdownHeadingCollapsed": true
   },
   "source": [
    "# Functions"
   ]
  },
  {
   "cell_type": "code",
   "execution_count": null,
   "id": "bf39052f-de18-4975-898b-6a3fe9508728",
   "metadata": {},
   "outputs": [],
   "source": [
    "def roll(die=4,level=1,bonus=0):\n",
    "    \"\"\"\n",
    "    randomly generate the number of MP given a die type, level, and ability bonus\n",
    "    e.g. for a level 3 character, with +2 to their ability score, rolling a d4 to detemine MP this would simulate 3d4+2\n",
    "    \"\"\"\n",
    "    result = level * (np.random.randint(1,die+1) + bonus)\n",
    "    return result\n",
    "    \n",
    "def stats(rolls):\n",
    "    \n",
    "    mean = np.mean(rolls)\n",
    "    std = np.std(rolls)\n",
    "    min = np.min(rolls)\n",
    "    max = np.max(rolls)\n",
    "\n",
    "    return {'mean':mean, 'std':std, 'min':min, 'max':max }"
   ]
  },
  {
   "cell_type": "markdown",
   "id": "a4a6af78-fd07-4108-a068-5996f9f39f2f",
   "metadata": {
    "jp-MarkdownHeadingCollapsed": true
   },
   "source": [
    "# Simulation"
   ]
  },
  {
   "cell_type": "code",
   "execution_count": null,
   "id": "8f793f4b-7c57-404b-b7d4-ea872d55312c",
   "metadata": {},
   "outputs": [],
   "source": [
    "# dice used to determine MP earned at each level\n",
    "dice = [4,6,8]\n",
    "# characters ability bonus added to die roll.  \n",
    "ability_bonuses = [0,1,2,3]\n",
    "# number of levels to consider\n",
    "levels = 20\n",
    "# number of simulated dice+ability_bonus rolls\n",
    "n_rolls = 1000\n",
    "# dictionary to hold results\n",
    "results = {}\n",
    "# spell points according to digrag's SpellPoints.jpg\n",
    "projected_mp = np.array([1,2,4,6,9,13,17,23,28,37,45,55,58,63,64,66,76,77,80,85])\n",
    "# simulate rolls and generate statistics\n",
    "for die in dice:\n",
    "    for ab in ability_bonuses:\n",
    "        for level in range(1,levels+1):\n",
    "            rolls = []\n",
    "            for _ in range(n_rolls):\n",
    "                rolls.append(roll(die,level,ab))\n",
    "            rolls = np.array(rolls)\n",
    "            d = stats(rolls)\n",
    "            if level==1:\n",
    "                df = pd.DataFrame(d,index=[level])\n",
    "            else:\n",
    "                df = pd.concat([df,pd.DataFrame(d,index=[level])])\n",
    "        results[(die,ab)] = df"
   ]
  },
  {
   "cell_type": "markdown",
   "id": "655c9b4c-76a1-40cb-b89d-83cce4407123",
   "metadata": {
    "jp-MarkdownHeadingCollapsed": true
   },
   "source": [
    "# Figures"
   ]
  },
  {
   "cell_type": "code",
   "execution_count": null,
   "id": "af2b425b-de4b-41a9-804d-8e4b3c192496",
   "metadata": {},
   "outputs": [],
   "source": [
    "for die in dice:\n",
    "    \n",
    "    fig,axs = plt.subplots(1,4,figsize=(20,5))\n",
    "    fig.suptitle('Mana Point Spell System Simulation',fontsize=20)\n",
    "    for idx,ab in enumerate(ability_bonuses):\n",
    "    \n",
    "        x = range(1,levels+1)\n",
    "        mean = results[(die,ab)]['mean'].values\n",
    "        std = results[(die,ab)]['std'].values\n",
    "        min = results[(die,ab)]['min'].values\n",
    "        max = results[(die,ab)]['max'].values\n",
    "        axs[idx].plot(x,mean,label='Mean MP')\n",
    "        axs[idx].fill_between(x,mean-std,mean+std,alpha=0.2,label='Std MP')\n",
    "        axs[idx].plot(x,min,label='Min MP')\n",
    "        axs[idx].plot(x,max,label='Max MP')\n",
    "        axs[idx].plot(x,projected_mp,label='BF Core Rules')\n",
    "        axs[idx].set_title(f'd{die}+{ab}',fontsize=14)\n",
    "        axs[idx].tick_params(axis='both', which='major', labelsize=10)\n",
    "        \n",
    "    for ax in axs.flatten():\n",
    "        ax.set_xlabel('Level',fontsize=14)\n",
    "        ax.set_ylabel('Mana Points',fontsize=14)\n",
    "        ax.grid(alpha=0.5)\n",
    "        ax.set_ylim(top=levels*(die+ab))\n",
    "        ax.set_xticks(range(1,21))\n",
    "\n",
    "    handles, labels = ax.get_legend_handles_labels()\n",
    "    fig.legend(handles, labels, loc='lower center',ncol=5,bbox_to_anchor=(0.5,-0.08),fontsize=14)\n",
    "    plt.tight_layout()\n",
    "    plt.show()\n",
    "    plt.close()"
   ]
  },
  {
   "cell_type": "code",
   "execution_count": null,
   "id": "9c62db81-815c-494d-af60-aff6500ead25",
   "metadata": {},
   "outputs": [],
   "source": []
  }
 ],
 "metadata": {
  "kernelspec": {
   "display_name": "Python 3 (ipykernel)",
   "language": "python",
   "name": "python3"
  },
  "language_info": {
   "codemirror_mode": {
    "name": "ipython",
    "version": 3
   },
   "file_extension": ".py",
   "mimetype": "text/x-python",
   "name": "python",
   "nbconvert_exporter": "python",
   "pygments_lexer": "ipython3",
   "version": "3.11.2"
  }
 },
 "nbformat": 4,
 "nbformat_minor": 5
}
