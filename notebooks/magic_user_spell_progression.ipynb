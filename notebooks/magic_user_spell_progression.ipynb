{
 "cells": [
  {
   "cell_type": "markdown",
   "id": "941e0333-6508-402b-a5d1-c408ee1650a0",
   "metadata": {},
   "source": [
    "# Description\n",
    "This notebook looks at the different outcome probabilities for a roll to cast system such as Dangerous Magic by Stephen Dobson on the [Basic Fantasy Showcase](https://www.basicfantasy.org/showcase.cgi).  For each die/dice type, e.g. 2d6, you define the probabilities for each possible outcome of a die/dice roll and how the outcomes are partitioned.  For example, using a 2d6 system a possible parition scheme is 2, 3-4, 5-9, 10-11, and 12, which gives five possible outcomes.  These are defined below in the roll_probs and parititions dictionaries respectively.  There is also a bonuses list to see how the probabilities change if a bonus is added to the roll.  For example, in the 2d6 context, a +1 bonus would exclude the first partition above since a 2 can never be rolled.\n",
    "\n",
    "The motivation for this analysis came from reading the Dangerous Magic supplement.  Since the outcome of each roll with a 1d20 follows a uniform distribution, a comparison with non-uniform distributions, e.g. 2d6 and 3d6, seemed worthwhile."
   ]
  },
  {
   "cell_type": "markdown",
   "id": "985fa7bd-53d5-42ce-a07d-8d9c3d924484",
   "metadata": {
    "jp-MarkdownHeadingCollapsed": true
   },
   "source": [
    "# Modules"
   ]
  },
  {
   "cell_type": "code",
   "execution_count": null,
   "id": "72905d5f-aa1b-4d61-a536-a75ca142a25f",
   "metadata": {},
   "outputs": [],
   "source": [
    "import matplotlib.pyplot as plt\n",
    "import numpy as np\n",
    "np.set_printoptions(legacy='1.25')"
   ]
  },
  {
   "cell_type": "markdown",
   "id": "0e237327-5089-4c91-9fde-7760a9b18855",
   "metadata": {
    "jp-MarkdownHeadingCollapsed": true
   },
   "source": [
    "# Figures"
   ]
  },
  {
   "cell_type": "code",
   "execution_count": null,
   "id": "d1769832-43ea-470e-9d99-ff6e2f9e8a20",
   "metadata": {},
   "outputs": [],
   "source": [
    "roll_probs = {\n",
    "    '2d6':{2:2.78,3:5.56,4:8.33,5:11.11,6:13.89,7:16.67,8:13.89,9:11.11,10:8.33,11:5.56,12:2.78},\n",
    "    '3d6':{3:0.46,4:1.39,5:2.78,6:4.63,7:6.94,8:9.72,9:11.57,10:12.50,11:12.50,12:11.57,13:9.72,14:6.94,15:4.63,16:2.78,17:1.39, 18:0.46},\n",
    "    '1d20':{1:5.0,2:5.0,3:5.0,4:5.0,5:5.0,6:5.0,7:5.0,8:5.0,9:5.0,10:5.0,11:5.0,12:5.0,13:5.0,14:5.0,15:5.0,16:5.0,17:5.0,18:5.0,19:5.0,20:5.0},\n",
    "}\n",
    "partitions = {\n",
    "    '2d6':[(None,2),(3,4),(5,9),(10,11),(12,None)],\n",
    "    '3d6':[(None,4),(5,7),(8,13),(14,16),(17,None)],\n",
    "    '1d20':[(None,1),(2,5),(6,15),(16,19),(20,None)],\n",
    "}\n",
    "bonuses = range(0,4)\n",
    "for die,probs in roll_probs.items():\n",
    "    roll_probs = {}\n",
    "    for bonus in bonuses:\n",
    "        for partition_idx, partition in enumerate(partitions[die]):\n",
    "            partition_sum = 0.0\n",
    "            a,b = partition\n",
    "            if a is None:\n",
    "                roll_probs_key = f'{b}'\n",
    "                sum_range = range(1,b-bonus+1)\n",
    "            elif b is None:\n",
    "                roll_probs_key = f'{a}'\n",
    "                sum_range = range(a-bonus,len(probs)+1+bonus)\n",
    "            else:\n",
    "                roll_probs_key = f'{a}-{b}'\n",
    "                sum_range = range(a-bonus,b-bonus+1)\n",
    "            for roll in sum_range:\n",
    "                if roll in probs.keys():\n",
    "                    partition_sum += probs[roll]\n",
    "            if roll_probs_key not in roll_probs.keys():\n",
    "                roll_probs[roll_probs_key] = [partition_sum]\n",
    "            else:\n",
    "                roll_probs[roll_probs_key].append(partition_sum)\n",
    "    \n",
    "    x = np.arange(len(bonuses))  # the label locations\n",
    "    width = 0.15  # the width of the bars\n",
    "    multiplier = -1\n",
    "    \n",
    "    fig, ax = plt.subplots(figsize=(12,4))\n",
    "    fig.suptitle(die)\n",
    "    for attribute, measurement in roll_probs.items():\n",
    "        offset = width * multiplier\n",
    "        rects = ax.bar(x + offset, np.array(measurement), width, label=attribute)\n",
    "        ax.bar_label(rects, padding=3)\n",
    "        multiplier += 1\n",
    "    \n",
    "    # Add some text for labels, title and custom x-axis tick labels, etc.\n",
    "    ax.set_xticks(x + width, [f'{die}+{bonus}' for bonus in bonuses])\n",
    "    ax.legend(loc='upper left', ncols=5)\n",
    "    ax.set_ylim(0, 100)\n",
    "    ax.grid()\n",
    "    \n",
    "    plt.show()\n",
    "    plt.close()"
   ]
  },
  {
   "cell_type": "code",
   "execution_count": null,
   "id": "8c400e69-164a-4743-9ba3-a406217dfee7",
   "metadata": {},
   "outputs": [],
   "source": []
  }
 ],
 "metadata": {
  "kernelspec": {
   "display_name": "Python 3 (ipykernel)",
   "language": "python",
   "name": "python3"
  },
  "language_info": {
   "codemirror_mode": {
    "name": "ipython",
    "version": 3
   },
   "file_extension": ".py",
   "mimetype": "text/x-python",
   "name": "python",
   "nbconvert_exporter": "python",
   "pygments_lexer": "ipython3",
   "version": "3.11.2"
  }
 },
 "nbformat": 4,
 "nbformat_minor": 5
}
